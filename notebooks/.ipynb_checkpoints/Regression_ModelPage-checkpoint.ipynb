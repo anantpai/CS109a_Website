{
 "cells": [
  {
   "cell_type": "markdown",
   "metadata": {
    "hide": true
   },
   "source": [
    "**CS109A Final Project**<br/>\n",
    "**Group 12**<br/>\n",
    "**Trevor Noon Regression Work Page**<br/>"
   ]
  },
  {
   "cell_type": "markdown",
   "metadata": {
    "hide": true
   },
   "source": [
    "Import libraries:"
   ]
  },
  {
   "cell_type": "code",
   "execution_count": 1,
   "metadata": {
    "hide": true
   },
   "outputs": [
    {
     "name": "stderr",
     "output_type": "stream",
     "text": [
      "/Users/Trevor/anaconda/lib/python3.6/site-packages/statsmodels/compat/pandas.py:56: FutureWarning: The pandas.core.datetools module is deprecated and will be removed in a future version. Please use the pandas.tseries module instead.\n",
      "  from pandas.core import datetools\n"
     ]
    }
   ],
   "source": [
    "import numpy as np\n",
    "import pandas as pd\n",
    "import matplotlib\n",
    "import matplotlib.pyplot as plt\n",
    "import statsmodels.api as sm\n",
    "from statsmodels.api import OLS\n",
    "import sklearn.metrics as metrics\n",
    "from sklearn.model_selection import cross_val_score\n",
    "from sklearn import tree\n",
    "from sklearn.tree import DecisionTreeClassifier\n",
    "from sklearn.ensemble import RandomForestClassifier\n",
    "from sklearn.ensemble import AdaBoostClassifier\n",
    "from sklearn.linear_model import LogisticRegressionCV\n",
    "from sklearn.model_selection import KFold\n",
    "from sklearn.linear_model import RidgeCV\n",
    "from sklearn.linear_model import LassoCV\n",
    "from sklearn.metrics import r2_score\n",
    "import plotly\n",
    "plotly.tools.set_credentials_file(username='cohenk2', api_key='dF6eJ0G0zN5JH3ifD1sH')\n",
    "import plotly.plotly as py\n",
    "import plotly.figure_factory as ff\n",
    "import scipy.stats as stats\n",
    "import pylab \n",
    "import warnings\n",
    "warnings.filterwarnings('ignore')\n",
    "import seaborn as sns; sns.set(color_codes=True)\n",
    "sns.set(style=\"whitegrid\")\n",
    "%matplotlib inline"
   ]
  },
  {
   "cell_type": "markdown",
   "metadata": {},
   "source": [
    "#### Our Modeling Journey"
   ]
  },
  {
   "cell_type": "markdown",
   "metadata": {},
   "source": [
    "Our journey in model creation had a variety of different phases as we iterated through the process running into roadblocks, circled back to try a different method or approach, and then repeated. Looking at an overview of what that actually meant for us we can briefly trace the outline of our steps and then walk through it.\n",
    "1. Initially, we ran various regressions (linear and regularization-based) on approximately 70 predictor variables. Despite multiple efforts we could not find any model that performed well.\n",
    "2. Adjusting for this, we went back to our data and bolstered it with additional indicators, interaction terms, and unique predictors we intuitively thought were useful. Running the same models on this data, we still had poor performance (even on our best cross validated Ridge Regression model).\n",
    "3. Thinking our data was still being negatively effected by the skew of playlist followers, we decided to only look at the popular playlists that we ultimately are seeking to generate. Using our new bolstered dataset on this subset, we saw mildly improved performance, but nothing substantial enough to gain incredible insights from.\n",
    "4. Moving away from regression, we decided to switch our focus to classification instead. We defined a success as being known as a 'popular' playlist above our follower threshold and undertook numerous classification models. Ultimately, a Random Forest Classification model proved to be the best model for us throughout the entire journey. "
   ]
  },
  {
   "cell_type": "markdown",
   "metadata": {},
   "source": [
    "#### Full Modeling"
   ]
  },
  {
   "cell_type": "markdown",
   "metadata": {},
   "source": [
    "One of the goals of our project was to be able to predict the number of followers of a playlist, given a number of songs and their artists. Our first, and simplest predictive model was the Ordinary Least-Squares Multiple Linear Regression Model, which aims to minimize the error produced by a linear function of our predictors. In this case, error is defined by taking the mean of our squared residuals (the actual number of followers - our predicted number). This linear function of our predictors provides us with a simple equation relating our predictors, such as average artist popularity or song duration, to our response variable, the number of followers of a playlist.\n",
    "\n",
    "The benefit of this simple model is that it’s highly interpretable and easy to understand. However, due to the simplicity of the model, there are definitely assumptions that we must account for.\n",
    "1. Normality: our residuals should be normally distributed. We check this below using a residual vs. fitted plot.\n",
    "2. Equal Variance: We should have the same variance with each observation; we can also check this below with the residual plot below.\n",
    "3. Linearity: Our predictors should have a linear relationship with our response; we can observe whether this is violated by checking to see if there are any patterns or any curvature in the residual plot below. Additionally, we saw some of these relationships directly in our EDA. \n",
    "4. Independence: Our predictors should be linearly independent, if not, there is multicollinearity in our model. We can account for this by removing predictors that are highly correlated."
   ]
  },
  {
   "cell_type": "code",
   "execution_count": 2,
   "metadata": {
    "hide": true
   },
   "outputs": [
    {
     "data": {
      "text/html": [
       "<div>\n",
       "<style>\n",
       "    .dataframe thead tr:only-child th {\n",
       "        text-align: right;\n",
       "    }\n",
       "\n",
       "    .dataframe thead th {\n",
       "        text-align: left;\n",
       "    }\n",
       "\n",
       "    .dataframe tbody tr th {\n",
       "        vertical-align: top;\n",
       "    }\n",
       "</style>\n",
       "<table border=\"1\" class=\"dataframe\">\n",
       "  <thead>\n",
       "    <tr style=\"text-align: right;\">\n",
       "      <th></th>\n",
       "      <th>playlist</th>\n",
       "      <th>name</th>\n",
       "      <th>followers</th>\n",
       "      <th>num_songs</th>\n",
       "      <th>av_song_pop</th>\n",
       "      <th>pct_explicit</th>\n",
       "      <th>avg_dur</th>\n",
       "      <th>av_artist_followers</th>\n",
       "      <th>pop_pct</th>\n",
       "      <th>rap_pct</th>\n",
       "      <th>...</th>\n",
       "      <th>Post Malone*rap_pct</th>\n",
       "      <th>Post Malone*rock_pct</th>\n",
       "      <th>Post Malone*hip_hop_pct</th>\n",
       "      <th>Post Malone*country_pct</th>\n",
       "      <th>Post Malone*metal_pct</th>\n",
       "      <th>Post Malone*indie_folk_pct</th>\n",
       "      <th>Post Malone*rnb_pct</th>\n",
       "      <th>Post Malone*edm_pct</th>\n",
       "      <th>Post Malone*classical_pct</th>\n",
       "      <th>Post Malone*jazz_pct</th>\n",
       "    </tr>\n",
       "  </thead>\n",
       "  <tbody>\n",
       "    <tr>\n",
       "      <th>0</th>\n",
       "      <td>37i9dQZF1DXcBWIGoYBM5M</td>\n",
       "      <td>Today's Top Hits</td>\n",
       "      <td>16.712741</td>\n",
       "      <td>-0.095155</td>\n",
       "      <td>2.767125</td>\n",
       "      <td>1.329673</td>\n",
       "      <td>-0.352106</td>\n",
       "      <td>1.131506</td>\n",
       "      <td>0.999423</td>\n",
       "      <td>0.889318</td>\n",
       "      <td>...</td>\n",
       "      <td>0.36</td>\n",
       "      <td>0.00</td>\n",
       "      <td>0.12</td>\n",
       "      <td>0.0</td>\n",
       "      <td>0.0</td>\n",
       "      <td>0.08</td>\n",
       "      <td>0.02</td>\n",
       "      <td>0.22</td>\n",
       "      <td>0.0</td>\n",
       "      <td>0.0</td>\n",
       "    </tr>\n",
       "    <tr>\n",
       "      <th>1</th>\n",
       "      <td>37i9dQZF1DX3LyU0mhfqgP</td>\n",
       "      <td>Out Now</td>\n",
       "      <td>12.993814</td>\n",
       "      <td>0.104091</td>\n",
       "      <td>2.094954</td>\n",
       "      <td>0.493535</td>\n",
       "      <td>-0.356516</td>\n",
       "      <td>0.654250</td>\n",
       "      <td>0.596919</td>\n",
       "      <td>-0.250860</td>\n",
       "      <td>...</td>\n",
       "      <td>0.00</td>\n",
       "      <td>0.00</td>\n",
       "      <td>0.00</td>\n",
       "      <td>0.0</td>\n",
       "      <td>0.0</td>\n",
       "      <td>0.00</td>\n",
       "      <td>0.00</td>\n",
       "      <td>0.00</td>\n",
       "      <td>0.0</td>\n",
       "      <td>0.0</td>\n",
       "    </tr>\n",
       "    <tr>\n",
       "      <th>2</th>\n",
       "      <td>37i9dQZF1DX7Axsg3uaDZb</td>\n",
       "      <td>Top Tracks of 2016 - USA</td>\n",
       "      <td>8.558527</td>\n",
       "      <td>1.897301</td>\n",
       "      <td>1.931070</td>\n",
       "      <td>1.911124</td>\n",
       "      <td>-0.291292</td>\n",
       "      <td>1.401707</td>\n",
       "      <td>1.386834</td>\n",
       "      <td>1.246525</td>\n",
       "      <td>...</td>\n",
       "      <td>0.45</td>\n",
       "      <td>0.07</td>\n",
       "      <td>0.25</td>\n",
       "      <td>0.0</td>\n",
       "      <td>0.0</td>\n",
       "      <td>0.08</td>\n",
       "      <td>0.06</td>\n",
       "      <td>0.19</td>\n",
       "      <td>0.0</td>\n",
       "      <td>0.0</td>\n",
       "    </tr>\n",
       "    <tr>\n",
       "      <th>3</th>\n",
       "      <td>37i9dQZF1DWWoCDtOBjhpE</td>\n",
       "      <td>Top Female Artists of 2016 - USA</td>\n",
       "      <td>0.000000</td>\n",
       "      <td>-1.290629</td>\n",
       "      <td>1.708333</td>\n",
       "      <td>0.589643</td>\n",
       "      <td>-0.230856</td>\n",
       "      <td>1.427494</td>\n",
       "      <td>1.552867</td>\n",
       "      <td>0.055833</td>\n",
       "      <td>...</td>\n",
       "      <td>0.00</td>\n",
       "      <td>0.00</td>\n",
       "      <td>0.00</td>\n",
       "      <td>0.0</td>\n",
       "      <td>0.0</td>\n",
       "      <td>0.00</td>\n",
       "      <td>0.00</td>\n",
       "      <td>0.00</td>\n",
       "      <td>0.0</td>\n",
       "      <td>0.0</td>\n",
       "    </tr>\n",
       "    <tr>\n",
       "      <th>4</th>\n",
       "      <td>7qLIVhpCFAiX1Teqf3L6Y4</td>\n",
       "      <td>Happy Birthday Cheryl!</td>\n",
       "      <td>5.332719</td>\n",
       "      <td>-0.892138</td>\n",
       "      <td>-0.386537</td>\n",
       "      <td>-0.467542</td>\n",
       "      <td>-0.284179</td>\n",
       "      <td>0.829675</td>\n",
       "      <td>1.091664</td>\n",
       "      <td>0.254282</td>\n",
       "      <td>...</td>\n",
       "      <td>0.00</td>\n",
       "      <td>0.00</td>\n",
       "      <td>0.00</td>\n",
       "      <td>0.0</td>\n",
       "      <td>0.0</td>\n",
       "      <td>0.00</td>\n",
       "      <td>0.00</td>\n",
       "      <td>0.00</td>\n",
       "      <td>0.0</td>\n",
       "      <td>0.0</td>\n",
       "    </tr>\n",
       "  </tbody>\n",
       "</table>\n",
       "<p>5 rows × 513 columns</p>\n",
       "</div>"
      ],
      "text/plain": [
       "                 playlist                              name  followers  \\\n",
       "0  37i9dQZF1DXcBWIGoYBM5M                  Today's Top Hits  16.712741   \n",
       "1  37i9dQZF1DX3LyU0mhfqgP                           Out Now  12.993814   \n",
       "2  37i9dQZF1DX7Axsg3uaDZb          Top Tracks of 2016 - USA   8.558527   \n",
       "3  37i9dQZF1DWWoCDtOBjhpE  Top Female Artists of 2016 - USA   0.000000   \n",
       "4  7qLIVhpCFAiX1Teqf3L6Y4            Happy Birthday Cheryl!   5.332719   \n",
       "\n",
       "   num_songs  av_song_pop  pct_explicit   avg_dur  av_artist_followers  \\\n",
       "0  -0.095155     2.767125      1.329673 -0.352106             1.131506   \n",
       "1   0.104091     2.094954      0.493535 -0.356516             0.654250   \n",
       "2   1.897301     1.931070      1.911124 -0.291292             1.401707   \n",
       "3  -1.290629     1.708333      0.589643 -0.230856             1.427494   \n",
       "4  -0.892138    -0.386537     -0.467542 -0.284179             0.829675   \n",
       "\n",
       "    pop_pct   rap_pct          ...           Post Malone*rap_pct  \\\n",
       "0  0.999423  0.889318          ...                          0.36   \n",
       "1  0.596919 -0.250860          ...                          0.00   \n",
       "2  1.386834  1.246525          ...                          0.45   \n",
       "3  1.552867  0.055833          ...                          0.00   \n",
       "4  1.091664  0.254282          ...                          0.00   \n",
       "\n",
       "   Post Malone*rock_pct  Post Malone*hip_hop_pct  Post Malone*country_pct  \\\n",
       "0                  0.00                     0.12                      0.0   \n",
       "1                  0.00                     0.00                      0.0   \n",
       "2                  0.07                     0.25                      0.0   \n",
       "3                  0.00                     0.00                      0.0   \n",
       "4                  0.00                     0.00                      0.0   \n",
       "\n",
       "   Post Malone*metal_pct  Post Malone*indie_folk_pct  Post Malone*rnb_pct  \\\n",
       "0                    0.0                        0.08                 0.02   \n",
       "1                    0.0                        0.00                 0.00   \n",
       "2                    0.0                        0.08                 0.06   \n",
       "3                    0.0                        0.00                 0.00   \n",
       "4                    0.0                        0.00                 0.00   \n",
       "\n",
       "   Post Malone*edm_pct  Post Malone*classical_pct  Post Malone*jazz_pct  \n",
       "0                 0.22                        0.0                   0.0  \n",
       "1                 0.00                        0.0                   0.0  \n",
       "2                 0.19                        0.0                   0.0  \n",
       "3                 0.00                        0.0                   0.0  \n",
       "4                 0.00                        0.0                   0.0  \n",
       "\n",
       "[5 rows x 513 columns]"
      ]
     },
     "execution_count": 2,
     "metadata": {},
     "output_type": "execute_result"
    }
   ],
   "source": [
    "df = pd.read_csv(\"train_data.csv\")\n",
    "del df['Unnamed: 0']\n",
    "\n",
    "# Cross Validation Setup\n",
    "x_train = df.iloc[:,3:503]\n",
    "y_train = df['followers']\n",
    "kf = KFold(n_splits=5)\n",
    "kf.get_n_splits(x_train)\n",
    "x_train = x_train.replace([np.inf, -np.inf], 0)\n",
    "x_train = x_train.fillna(0)\n",
    "y_train = y_train.replace([np.inf, -np.inf], 0)\n",
    "y_train = y_train.fillna(0)\n",
    "\n",
    "df.head()"
   ]
  },
  {
   "cell_type": "markdown",
   "metadata": {},
   "source": [
    "We initially ran was an ordinary least squares regression using all predictors. This resulted in severe overfitting because of the abundance of predictors we had when compared to the actual number of playlists that we were trying to predict from. We know that we're overfitting the data because all of our training set $R^2$ values are incredibly high around 0.9, but the test and cross validated $R^2$ values were either 0 or even negative."
   ]
  },
  {
   "cell_type": "code",
   "execution_count": 3,
   "metadata": {
    "hide": true
   },
   "outputs": [
    {
     "name": "stdout",
     "output_type": "stream",
     "text": [
      "Full Model CV R^2:  -6.84646555406\n"
     ]
    }
   ],
   "source": [
    "# Full Model\n",
    "full_r2_train = []\n",
    "for train_index, test_index in kf.split(x_train):\n",
    "    train_start = train_index[0]\n",
    "    train_end = train_index[-1]\n",
    "    test_start = test_index[0]\n",
    "    test_end = test_index[-1]\n",
    "    regres = sm.OLS(y_train[train_start:train_end], x_train[train_start:train_end])\n",
    "    results_k = regres.fit()\n",
    "    y_hat_k_train = results_k.predict(x_train[test_start:test_end])\n",
    "    full_r2_train.append(r2_score(y_train[test_start:test_end],y_hat_k_train))\n",
    "    \n",
    "print(\"Full Model CV R^2: \", np.mean(full_r2_train))\n",
    "\n",
    "regress = sm.OLS(y_train, x_train)\n",
    "results_full = regress.fit()\n",
    "# results_full.summary()"
   ]
  },
  {
   "cell_type": "markdown",
   "metadata": {},
   "source": [
    "Despite the overfitting problem, we want to look and see if linear regression is even a good fit at all and whether or not we violate any of the assumptions necessary for a model like this to work. Generally, for linear regression to be valid we want data that is normally distributed. As discussed in the EDA section, playlist followers are heavily right skewed so we performed a log transformation. Even with this transformation, however, the data was still rather far from normal which caused some reverberating problems throughout our models. Additionally, there were no directly apparent linear relationships present between our predictors and response variables nor any visible helpful transformations.\n",
    "\n",
    "Looking at the models themselves, we can see if their inherent assumptions held. The first assumption for our model to be valid is that our residuals are normally distributed with mean 0 and a constant variance. Looking at the distribution of our residuals we can see that the mean is indeed 0, however they don't look like they have constant variance as we have far more positive residuals than negatives. Indeed, looking at our fitted values for log followers when compared to the true number of followers, as well as a quantile-quantile plot we tend to generally predict far too many playlists to be located around the mean of the true dataset."
   ]
  },
  {
   "cell_type": "code",
   "execution_count": 4,
   "metadata": {
    "hide": true
   },
   "outputs": [
    {
     "data": {
      "text/plain": [
       "count    1.106000e+03\n",
       "mean    -2.442852e-13\n",
       "std      2.486787e+00\n",
       "min     -6.941227e+00\n",
       "25%     -1.500287e+00\n",
       "50%     -1.330935e-12\n",
       "75%      7.345288e-01\n",
       "max      1.117090e+01\n",
       "dtype: float64"
      ]
     },
     "execution_count": 4,
     "metadata": {},
     "output_type": "execute_result"
    },
    {
     "data": {
      "image/png": "[encoded data removed]",
      "text/plain": [
       "<matplotlib.figure.Figure at 0x10a8ef7f0>"
      ]
     },
     "metadata": {},
     "output_type": "display_data"
    }
   ],
   "source": [
    "yhat_full = results_full.predict(x_train)\n",
    "sns.distplot(y_train)\n",
    "sns.distplot(yhat_full)\n",
    "resid = yhat_full - y_train\n",
    "resid.describe()"
   ]
  },
  {
   "cell_type": "code",
   "execution_count": 5,
   "metadata": {
    "hide": true
   },
   "outputs": [
    {
     "data": {
      "text/plain": [
       "<matplotlib.text.Text at 0x1174f60f0>"
      ]
     },
     "execution_count": 5,
     "metadata": {},
     "output_type": "execute_result"
    },
    {
     "data": {
      "image/png": "[encoded data removed]",
      "text/plain": [
       "<matplotlib.figure.Figure at 0x10a8ef6d8>"
      ]
     },
     "metadata": {},
     "output_type": "display_data"
    }
   ],
   "source": [
    "plt.figure()\n",
    "sns.regplot(yhat_full,resid)\n",
    "plt.xlabel('Prediction')\n",
    "plt.ylabel('Residuals')\n",
    "plt.title('Residual v. Fitted')"
   ]
  },
  {
   "cell_type": "code",
   "execution_count": 6,
   "metadata": {
    "hide": true
   },
   "outputs": [
    {
     "data": {
      "image/png": "[encoded data removed]",
      "text/plain": [
       "<matplotlib.figure.Figure at 0x11083bc88>"
      ]
     },
     "metadata": {},
     "output_type": "display_data"
    }
   ],
   "source": [
    "stats.probplot(resid, dist=\"norm\", plot=pylab)\n",
    "pylab.show()"
   ]
  },
  {
   "cell_type": "markdown",
   "metadata": {},
   "source": [
    "Despite the fact that we violated some key assumptions, we looked further into linear regression to try and remedy the overfitting problem. Utilizing backwards stepwise regression and eliminating insignificant predictors, we hoped to address the problem. With that said, however, we were unsuccessful as we still experienced overfitting. This may seem strange since now there are only 14 predictors, but in examining the predictors the overfitting becomes clear. It makes absolutely no sense to have a significant variable of the interaction between Dua Lipa's presence in a playlist and the amount of country that it has to effect success by an enormous factor of $e^{70}$."
   ]
  },
  {
   "cell_type": "code",
   "execution_count": 7,
   "metadata": {
    "hide": true
   },
   "outputs": [
    {
     "name": "stdout",
     "output_type": "stream",
     "text": [
      "                            OLS Regression Results                            \n",
      "==============================================================================\n",
      "Dep. Variable:              followers   R-squared:                       0.193\n",
      "Model:                            OLS   Adj. R-squared:                  0.174\n",
      "Method:                 Least Squares   F-statistic:                     9.931\n",
      "Date:                Thu, 07 Dec 2017   Prob (F-statistic):           2.32e-35\n",
      "Time:                        13:14:23   Log-Likelihood:                -2738.4\n",
      "No. Observations:                1106   AIC:                             5531.\n",
      "Df Residuals:                    1079   BIC:                             5666.\n",
      "Df Model:                          26                                         \n",
      "Covariance Type:            nonrobust                                         \n",
      "===============================================================================================\n",
      "                                  coef    std err          t      P>|t|      [0.025      0.975]\n",
      "-----------------------------------------------------------------------------------------------\n",
      "num_songs                       0.4178      0.091      4.604      0.000       0.240       0.596\n",
      "av_song_pop                     0.8089      0.100      8.064      0.000       0.612       1.006\n",
      "rock_pct                       -0.3603      0.094     -3.833      0.000      -0.545      -0.176\n",
      "jazz_pct                       -0.2825      0.089     -3.174      0.002      -0.457      -0.108\n",
      "percent_international          -2.9708      0.102    -28.999      0.000      -3.172      -2.770\n",
      "this_or_not                     1.0514      0.280      3.757      0.000       0.502       1.600\n",
      "number_or_not                  -1.2054      0.302     -3.989      0.000      -1.798      -0.613\n",
      "BeyoncÌÄå©                     -2.3604      0.756     -3.124      0.002      -3.843      -0.878\n",
      "Camila Cabello                  2.9894      1.039      2.876      0.004       0.950       5.029\n",
      "Sam Smith                     -12.9714      3.272     -3.965      0.000     -19.391      -6.552\n",
      "pct_w_genre                    13.8678      0.149     92.932      0.000      13.575      14.161\n",
      "BeyoncÌÄå©*rock_pct             3.8228      1.914      1.997      0.046       0.068       7.578\n",
      "Selena Gomez*indie_folk_pct   -10.8001      4.433     -2.436      0.015     -19.498      -2.102\n",
      "Marshmello*pop_pct              4.2643      1.843      2.314      0.021       0.649       7.880\n",
      "Marshmello*hip_hop_pct        -24.3369     11.535     -2.110      0.035     -46.971      -1.703\n",
      "Dua Lipa*pop_pct              -10.7809      1.785     -6.040      0.000     -14.283      -7.279\n",
      "Dua Lipa*rnb_pct               58.8222     17.079      3.444      0.001      25.311      92.334\n",
      "Camila Cabello*jazz_pct      -752.7325    216.591     -3.475      0.001   -1177.720    -327.745\n",
      "Travis Scott*rnb_pct          -16.7147      5.853     -2.856      0.004     -28.198      -5.231\n",
      "Taylor Swift*edm_pct          -18.0407      8.021     -2.249      0.025     -33.778      -2.303\n",
      "Kendrick Lamar*country_pct     41.6242     21.138      1.969      0.049       0.148      83.101\n",
      "Eminem*rock_pct                10.5880      5.195      2.038      0.042       0.395      20.781\n",
      "Eminem*metal_pct              -31.9611     11.356     -2.814      0.005     -54.244      -9.678\n",
      "Sam Smith*pop_pct              15.5559      4.099      3.795      0.000       7.513      23.599\n",
      "Sam Smith*edm_pct              14.1212      4.172      3.385      0.001       5.936      22.307\n",
      "Sam Smith*jazz_pct             16.4239      6.324      2.597      0.010       4.015      28.833\n",
      "Khalid*pop_pct                  4.2863      1.437      2.983      0.003       1.467       7.105\n",
      "Ed Sheeran*classical_pct             0          0        nan        nan           0           0\n",
      "Drake*classical_pct                  0          0        nan        nan           0           0\n",
      "==============================================================================\n",
      "Omnibus:                      128.021   Durbin-Watson:                   1.927\n",
      "Prob(Omnibus):                  0.000   Jarque-Bera (JB):              183.147\n",
      "Skew:                          -0.851   Prob(JB):                     1.70e-40\n",
      "Kurtosis:                       4.039   Cond. No.                     1.12e+16\n",
      "==============================================================================\n",
      "\n",
      "Warnings:\n",
      "[1] Standard Errors assume that the covariance matrix of the errors is correctly specified.\n",
      "[2] The smallest eigenvalue is 1.25e-29. This might indicate that there are\n",
      "strong multicollinearity problems or that the design matrix is singular.\n",
      "Backwards Stepwise CV Train R^2:  -0.0217653666496\n"
     ]
    }
   ],
   "source": [
    "# OLS Backwards Stepwise\n",
    "# Regress loop\n",
    "complete = False\n",
    "all_vars = list(x_train.columns)\n",
    "while(complete == False):\n",
    "    # Regression\n",
    "    x_this = x_train[all_vars]\n",
    "    regr = sm.OLS(y_train, x_this)\n",
    "    results_this = regr.fit()\n",
    "    # Pull max p-value\n",
    "    pvals = results_this.pvalues\n",
    "    for variable in range(len(pvals)):\n",
    "        pvals[variable] = float(pvals[variable])\n",
    "    variable = pvals.idxmax(axis = 0)\n",
    "    max_p = max(pvals.values)\n",
    "    # Remove that variable if p > .05\n",
    "    if max_p > 0.05:\n",
    "        all_vars.remove(variable)\n",
    "    else:\n",
    "        complete = True\n",
    "\n",
    "regress_bw = sm.OLS(y_train, x_train[all_vars])\n",
    "results_bw = regress_bw.fit()\n",
    "print(results_bw.summary())\n",
    "\n",
    "bw1_vars = all_vars\n",
    "x_bw1 = x_train[bw1_vars] \n",
    "\n",
    "# Backwards \n",
    "bw1_r2_train = []\n",
    "for train_index, test_index in kf.split(x_bw1):\n",
    "    train_start = train_index[0]\n",
    "    train_end = train_index[-1]\n",
    "    test_start = test_index[0]\n",
    "    test_end = test_index[-1]\n",
    "    regres = sm.OLS(y_train[train_start:train_end], x_bw1[train_start:train_end])\n",
    "    results_k = regres.fit()\n",
    "    y_hat_bw1_train = results_k.predict(x_bw1[test_start:test_end])\n",
    "    bw1_r2_train.append(r2_score(y_train[test_start:test_end],y_hat_bw1_train))\n",
    "    \n",
    "print(\"Backwards Stepwise CV Train R^2: \", np.mean(bw1_r2_train))"
   ]
  },
  {
   "cell_type": "markdown",
   "metadata": {},
   "source": [
    "Moving away from pure linear regression, we looked for better success with regularization methods - specifically Lasso and Ridge regression. The main difference between the OLS regression and these regularization methods are that they both introduce a penalty factor. The methods still inherently minimize a loss function (to minimize error), but the penalty factors serve to account for extreme values in parameters. Lasso's penalty form relies on the absolute value of the coefficients while ridge uses the square of the coefficients (notice how both must be positive to increase the loss function and actually serve as a penalty). \n",
    "\n",
    "\n",
    "Our hope was that their penalty factors would address the aforementioned problem present within backwards stepwise overfitting whilst still retaining some simplicity of less predictors. Ultimately, these regularization methods did address the overfitting, but had little performance improvement as a result. "
   ]
  },
  {
   "cell_type": "code",
   "execution_count": 8,
   "metadata": {
    "hide": true
   },
   "outputs": [
    {
     "name": "stdout",
     "output_type": "stream",
     "text": [
      "Lasso Train R^2:  0.147704204575\n"
     ]
    }
   ],
   "source": [
    "# Lasso\n",
    "lasso_reg = LassoCV()\n",
    "lasso_reg.fit(x_train, y_train)\n",
    "yhat_train_lasso = lasso_reg.predict(x_train)\n",
    "print(\"Lasso Train R^2: \" ,r2_score(y_train,yhat_train_lasso))"
   ]
  },
  {
   "cell_type": "code",
   "execution_count": 9,
   "metadata": {
    "hide": true
   },
   "outputs": [
    {
     "name": "stdout",
     "output_type": "stream",
     "text": [
      "Ridge Train R^2:  0.197137758465\n"
     ]
    }
   ],
   "source": [
    "# Ridge\n",
    "ridge_reg = RidgeCV()\n",
    "ridge_reg.fit(x_train, y_train)\n",
    "yhat_train_ridge = ridge_reg.predict(x_train)\n",
    "print(\"Ridge Train R^2: \" ,r2_score(y_train,yhat_train_ridge))"
   ]
  },
  {
   "cell_type": "markdown",
   "metadata": {},
   "source": [
    "#### Popular Subset"
   ]
  },
  {
   "cell_type": "markdown",
   "metadata": {},
   "source": [
    "Circling back on another attempt to try regression, we decided to refocus and only look at playlists that were deemed popular (in the top quartile of followers). Looking only at this subset then, we recentered our dataset and tried the same regularization methods."
   ]
  },
  {
   "cell_type": "code",
   "execution_count": 11,
   "metadata": {
    "hide": true
   },
   "outputs": [
    {
     "data": {
      "text/html": [
       "<div>\n",
       "<style>\n",
       "    .dataframe thead tr:only-child th {\n",
       "        text-align: right;\n",
       "    }\n",
       "\n",
       "    .dataframe thead th {\n",
       "        text-align: left;\n",
       "    }\n",
       "\n",
       "    .dataframe tbody tr th {\n",
       "        vertical-align: top;\n",
       "    }\n",
       "</style>\n",
       "<table border=\"1\" class=\"dataframe\">\n",
       "  <thead>\n",
       "    <tr style=\"text-align: right;\">\n",
       "      <th></th>\n",
       "      <th>playlist</th>\n",
       "      <th>name</th>\n",
       "      <th>followers</th>\n",
       "      <th>num_songs</th>\n",
       "      <th>av_song_pop</th>\n",
       "      <th>pct_explicit</th>\n",
       "      <th>avg_dur</th>\n",
       "      <th>av_artist_followers</th>\n",
       "      <th>pop_pct</th>\n",
       "      <th>rap_pct</th>\n",
       "      <th>...</th>\n",
       "      <th>Post Malone*rap_pct</th>\n",
       "      <th>Post Malone*rock_pct</th>\n",
       "      <th>Post Malone*hip_hop_pct</th>\n",
       "      <th>Post Malone*country_pct</th>\n",
       "      <th>Post Malone*metal_pct</th>\n",
       "      <th>Post Malone*indie_folk_pct</th>\n",
       "      <th>Post Malone*rnb_pct</th>\n",
       "      <th>Post Malone*edm_pct</th>\n",
       "      <th>Post Malone*classical_pct</th>\n",
       "      <th>Post Malone*jazz_pct</th>\n",
       "    </tr>\n",
       "  </thead>\n",
       "  <tbody>\n",
       "    <tr>\n",
       "      <th>0</th>\n",
       "      <td>37i9dQZF1DXcBWIGoYBM5M</td>\n",
       "      <td>Today's Top Hits</td>\n",
       "      <td>4.711236</td>\n",
       "      <td>-0.095155</td>\n",
       "      <td>2.767125</td>\n",
       "      <td>1.329673</td>\n",
       "      <td>-0.352106</td>\n",
       "      <td>1.131506</td>\n",
       "      <td>0.999423</td>\n",
       "      <td>0.889318</td>\n",
       "      <td>...</td>\n",
       "      <td>0.36</td>\n",
       "      <td>0.0</td>\n",
       "      <td>0.12</td>\n",
       "      <td>0.0</td>\n",
       "      <td>0.0</td>\n",
       "      <td>0.08</td>\n",
       "      <td>0.02</td>\n",
       "      <td>0.22</td>\n",
       "      <td>0.0</td>\n",
       "      <td>0.0</td>\n",
       "    </tr>\n",
       "    <tr>\n",
       "      <th>1</th>\n",
       "      <td>37i9dQZF1DX3LyU0mhfqgP</td>\n",
       "      <td>Out Now</td>\n",
       "      <td>0.992308</td>\n",
       "      <td>0.104091</td>\n",
       "      <td>2.094954</td>\n",
       "      <td>0.493535</td>\n",
       "      <td>-0.356516</td>\n",
       "      <td>0.654250</td>\n",
       "      <td>0.596919</td>\n",
       "      <td>-0.250860</td>\n",
       "      <td>...</td>\n",
       "      <td>0.00</td>\n",
       "      <td>0.0</td>\n",
       "      <td>0.00</td>\n",
       "      <td>0.0</td>\n",
       "      <td>0.0</td>\n",
       "      <td>0.00</td>\n",
       "      <td>0.00</td>\n",
       "      <td>0.00</td>\n",
       "      <td>0.0</td>\n",
       "      <td>0.0</td>\n",
       "    </tr>\n",
       "    <tr>\n",
       "      <th>5</th>\n",
       "      <td>37i9dQZF1DWU13kKnk03AP</td>\n",
       "      <td>Daily Lift</td>\n",
       "      <td>1.791751</td>\n",
       "      <td>-0.055306</td>\n",
       "      <td>2.280426</td>\n",
       "      <td>0.465268</td>\n",
       "      <td>-0.406380</td>\n",
       "      <td>0.795643</td>\n",
       "      <td>1.118793</td>\n",
       "      <td>0.083071</td>\n",
       "      <td>...</td>\n",
       "      <td>0.00</td>\n",
       "      <td>0.0</td>\n",
       "      <td>0.00</td>\n",
       "      <td>0.0</td>\n",
       "      <td>0.0</td>\n",
       "      <td>0.00</td>\n",
       "      <td>0.00</td>\n",
       "      <td>0.00</td>\n",
       "      <td>0.0</td>\n",
       "      <td>0.0</td>\n",
       "    </tr>\n",
       "    <tr>\n",
       "      <th>7</th>\n",
       "      <td>37i9dQZF1DX1dvMSwf27JO</td>\n",
       "      <td>Study Break</td>\n",
       "      <td>0.891364</td>\n",
       "      <td>0.183789</td>\n",
       "      <td>1.435792</td>\n",
       "      <td>0.367078</td>\n",
       "      <td>-0.352594</td>\n",
       "      <td>0.882897</td>\n",
       "      <td>1.164485</td>\n",
       "      <td>-0.191357</td>\n",
       "      <td>...</td>\n",
       "      <td>0.00</td>\n",
       "      <td>0.0</td>\n",
       "      <td>0.00</td>\n",
       "      <td>0.0</td>\n",
       "      <td>0.0</td>\n",
       "      <td>0.00</td>\n",
       "      <td>0.00</td>\n",
       "      <td>0.00</td>\n",
       "      <td>0.0</td>\n",
       "      <td>0.0</td>\n",
       "    </tr>\n",
       "    <tr>\n",
       "      <th>12</th>\n",
       "      <td>37i9dQZF1DWUACcBjzMiIY</td>\n",
       "      <td>Mellow Nights</td>\n",
       "      <td>1.506135</td>\n",
       "      <td>0.183789</td>\n",
       "      <td>1.212179</td>\n",
       "      <td>-0.374806</td>\n",
       "      <td>-0.186847</td>\n",
       "      <td>1.255306</td>\n",
       "      <td>1.504319</td>\n",
       "      <td>-0.330619</td>\n",
       "      <td>...</td>\n",
       "      <td>0.00</td>\n",
       "      <td>0.0</td>\n",
       "      <td>0.00</td>\n",
       "      <td>0.0</td>\n",
       "      <td>0.0</td>\n",
       "      <td>0.00</td>\n",
       "      <td>0.00</td>\n",
       "      <td>0.00</td>\n",
       "      <td>0.0</td>\n",
       "      <td>0.0</td>\n",
       "    </tr>\n",
       "  </tbody>\n",
       "</table>\n",
       "<p>5 rows × 513 columns</p>\n",
       "</div>"
      ],
      "text/plain": [
       "                  playlist              name  followers  num_songs  \\\n",
       "0   37i9dQZF1DXcBWIGoYBM5M  Today's Top Hits   4.711236  -0.095155   \n",
       "1   37i9dQZF1DX3LyU0mhfqgP           Out Now   0.992308   0.104091   \n",
       "5   37i9dQZF1DWU13kKnk03AP        Daily Lift   1.791751  -0.055306   \n",
       "7   37i9dQZF1DX1dvMSwf27JO       Study Break   0.891364   0.183789   \n",
       "12  37i9dQZF1DWUACcBjzMiIY     Mellow Nights   1.506135   0.183789   \n",
       "\n",
       "    av_song_pop  pct_explicit   avg_dur  av_artist_followers   pop_pct  \\\n",
       "0      2.767125      1.329673 -0.352106             1.131506  0.999423   \n",
       "1      2.094954      0.493535 -0.356516             0.654250  0.596919   \n",
       "5      2.280426      0.465268 -0.406380             0.795643  1.118793   \n",
       "7      1.435792      0.367078 -0.352594             0.882897  1.164485   \n",
       "12     1.212179     -0.374806 -0.186847             1.255306  1.504319   \n",
       "\n",
       "     rap_pct          ...           Post Malone*rap_pct  Post Malone*rock_pct  \\\n",
       "0   0.889318          ...                          0.36                   0.0   \n",
       "1  -0.250860          ...                          0.00                   0.0   \n",
       "5   0.083071          ...                          0.00                   0.0   \n",
       "7  -0.191357          ...                          0.00                   0.0   \n",
       "12 -0.330619          ...                          0.00                   0.0   \n",
       "\n",
       "    Post Malone*hip_hop_pct  Post Malone*country_pct  Post Malone*metal_pct  \\\n",
       "0                      0.12                      0.0                    0.0   \n",
       "1                      0.00                      0.0                    0.0   \n",
       "5                      0.00                      0.0                    0.0   \n",
       "7                      0.00                      0.0                    0.0   \n",
       "12                     0.00                      0.0                    0.0   \n",
       "\n",
       "    Post Malone*indie_folk_pct  Post Malone*rnb_pct  Post Malone*edm_pct  \\\n",
       "0                         0.08                 0.02                 0.22   \n",
       "1                         0.00                 0.00                 0.00   \n",
       "5                         0.00                 0.00                 0.00   \n",
       "7                         0.00                 0.00                 0.00   \n",
       "12                        0.00                 0.00                 0.00   \n",
       "\n",
       "    Post Malone*classical_pct  Post Malone*jazz_pct  \n",
       "0                         0.0                   0.0  \n",
       "1                         0.0                   0.0  \n",
       "5                         0.0                   0.0  \n",
       "7                         0.0                   0.0  \n",
       "12                        0.0                   0.0  \n",
       "\n",
       "[5 rows x 513 columns]"
      ]
     },
     "execution_count": 11,
     "metadata": {},
     "output_type": "execute_result"
    }
   ],
   "source": [
    "pop = df.loc[df['followers'] >= np.log(163000)]\n",
    "pop['followers'] = pop['followers'] - np.log(163000)\n",
    "pop.head()"
   ]
  },
  {
   "cell_type": "markdown",
   "metadata": {},
   "source": [
    "With this big change, we did see a slight uptick in performance, but unfortunately nothing substantial."
   ]
  },
  {
   "cell_type": "code",
   "execution_count": 12,
   "metadata": {
    "hide": true
   },
   "outputs": [
    {
     "name": "stdout",
     "output_type": "stream",
     "text": [
      "Ridge Train R^2:  0.324045167308\n",
      "Ridge Test R^2:  -0.187883090485\n",
      "Lasso Train R^2:  0.18823571324\n",
      "Lasso Test R^2:  -0.102655312018\n"
     ]
    }
   ],
   "source": [
    "# Only looking at popular \n",
    "msk = np.random.rand(len(pop)) < 0.75\n",
    "data_train = pop[msk]\n",
    "data_validate = pop[~msk]\n",
    "\n",
    "x_train = data_train.iloc[:,3:503]\n",
    "x_test = data_validate.iloc[:,3:503]\n",
    "y_train = np.log(data_train['followers'])\n",
    "y_test = np.log(data_validate['followers'])\n",
    "\n",
    "x_train = x_train.replace([np.inf, -np.inf, np.nan], 0)\n",
    "x_train = x_train.fillna(0)\n",
    "x_test = x_test.replace([np.inf, -np.inf], 0)\n",
    "x_test = x_test.fillna(0)\n",
    "y_test = y_test.replace([np.inf, -np.inf], 0)\n",
    "y_test = y_test.fillna(0)\n",
    "\n",
    "pop_regress = sm.OLS(y_train, x_train)\n",
    "pop_results = pop_regress.fit()\n",
    "pop_results.summary()\n",
    "\n",
    "ridge_reg = RidgeCV()\n",
    "ridge_reg.fit(x_train, y_train)\n",
    "yhat_train_ridge = ridge_reg.predict(x_train)\n",
    "yhat_test_ridge = ridge_reg.predict(x_test)\n",
    "print(\"Ridge Train R^2: \" ,r2_score(y_train,yhat_train_ridge))\n",
    "print(\"Ridge Test R^2: \" ,r2_score(y_test,yhat_test_ridge))\n",
    "\n",
    "lasso_reg = LassoCV()\n",
    "lasso_reg.fit(x_train, y_train)\n",
    "yhat_train_lasso = lasso_reg.predict(x_train)\n",
    "yhat_test_lasso = lasso_reg.predict(x_test)\n",
    "print(\"Lasso Train R^2: \" ,r2_score(y_train,yhat_train_lasso))\n",
    "print(\"Lasso Test R^2: \" ,r2_score(y_test,yhat_test_lasso))"
   ]
  },
  {
   "cell_type": "code",
   "execution_count": 15,
   "metadata": {},
   "outputs": [
    {
     "data": {
      "text/html": [
       "<div>\n",
       "<style>\n",
       "    .dataframe thead tr:only-child th {\n",
       "        text-align: right;\n",
       "    }\n",
       "\n",
       "    .dataframe thead th {\n",
       "        text-align: left;\n",
       "    }\n",
       "\n",
       "    .dataframe tbody tr th {\n",
       "        vertical-align: top;\n",
       "    }\n",
       "</style>\n",
       "<table border=\"1\" class=\"dataframe\">\n",
       "  <thead>\n",
       "    <tr style=\"text-align: right;\">\n",
       "      <th></th>\n",
       "      <th>Coefficient</th>\n",
       "      <th>Variable</th>\n",
       "    </tr>\n",
       "  </thead>\n",
       "  <tbody>\n",
       "    <tr>\n",
       "      <th>14</th>\n",
       "      <td>-0.413052</td>\n",
       "      <td>classical_pct</td>\n",
       "    </tr>\n",
       "    <tr>\n",
       "      <th>67</th>\n",
       "      <td>-0.321790</td>\n",
       "      <td>Drake</td>\n",
       "    </tr>\n",
       "    <tr>\n",
       "      <th>20</th>\n",
       "      <td>-0.214041</td>\n",
       "      <td>top_song_pop</td>\n",
       "    </tr>\n",
       "    <tr>\n",
       "      <th>27</th>\n",
       "      <td>-0.214000</td>\n",
       "      <td>this_or_not</td>\n",
       "    </tr>\n",
       "    <tr>\n",
       "      <th>49</th>\n",
       "      <td>-0.187792</td>\n",
       "      <td>The Weeknd</td>\n",
       "    </tr>\n",
       "    <tr>\n",
       "      <th>44</th>\n",
       "      <td>-0.173901</td>\n",
       "      <td>Imagine Dragons</td>\n",
       "    </tr>\n",
       "    <tr>\n",
       "      <th>61</th>\n",
       "      <td>-0.167843</td>\n",
       "      <td>Sam Smith</td>\n",
       "    </tr>\n",
       "    <tr>\n",
       "      <th>16</th>\n",
       "      <td>-0.162958</td>\n",
       "      <td>popular_artist_pct</td>\n",
       "    </tr>\n",
       "    <tr>\n",
       "      <th>60</th>\n",
       "      <td>0.191890</td>\n",
       "      <td>J Balvin</td>\n",
       "    </tr>\n",
       "    <tr>\n",
       "      <th>38</th>\n",
       "      <td>0.245761</td>\n",
       "      <td>Dua Lipa</td>\n",
       "    </tr>\n",
       "    <tr>\n",
       "      <th>34</th>\n",
       "      <td>0.246925</td>\n",
       "      <td>Marshmello</td>\n",
       "    </tr>\n",
       "    <tr>\n",
       "      <th>1</th>\n",
       "      <td>0.466326</td>\n",
       "      <td>av_song_pop</td>\n",
       "    </tr>\n",
       "  </tbody>\n",
       "</table>\n",
       "</div>"
      ],
      "text/plain": [
       "    Coefficient            Variable\n",
       "14    -0.413052       classical_pct\n",
       "67    -0.321790               Drake\n",
       "20    -0.214041        top_song_pop\n",
       "27    -0.214000         this_or_not\n",
       "49    -0.187792          The Weeknd\n",
       "44    -0.173901     Imagine Dragons\n",
       "61    -0.167843           Sam Smith\n",
       "16    -0.162958  popular_artist_pct\n",
       "60     0.191890            J Balvin\n",
       "38     0.245761            Dua Lipa\n",
       "34     0.246925          Marshmello\n",
       "1      0.466326         av_song_pop"
      ]
     },
     "execution_count": 15,
     "metadata": {},
     "output_type": "execute_result"
    }
   ],
   "source": [
    "coef_vals = ridge_reg.coef_\n",
    "factors = pd.DataFrame(coef_vals, columns = ['Coefficient'])\n",
    "factors['Variable'] = x_train.columns\n",
    "factors = factors.sort_values('Coefficient')\n",
    "factors[abs(factors['Coefficient']) > 0.15]"
   ]
  },
  {
   "cell_type": "markdown",
   "metadata": {},
   "source": [
    "We can take a higher level look at all of our models and compare their potentials, but really since all of these models have negative test $R^2$ values there really doesn't seem to be much here and we need to look elsewhere moving forward."
   ]
  },
  {
   "cell_type": "code",
   "execution_count": 17,
   "metadata": {
    "hide": true
   },
   "outputs": [
    {
     "name": "stdout",
     "output_type": "stream",
     "text": [
      "High five! You successfully sent some data to your account on plotly. View your plot in your browser at https://plot.ly/~cohenk2/0 or inside your plot.ly account where it is named 'simple_table'\n"
     ]
    },
    {
     "data": {
      "text/html": [
       "<iframe id=\"igraph\" scrolling=\"no\" style=\"border:none;\" seamless=\"seamless\" src=\"https://plot.ly/~cohenk2/0.embed\" height=\"200px\" width=\"100%\"></iframe>"
      ],
      "text/plain": [
       "<plotly.tools.PlotlyDisplay object>"
      ]
     },
     "execution_count": 17,
     "metadata": {},
     "output_type": "execute_result"
    }
   ],
   "source": [
    "data_matrix = [['Model Type', 'Train R^2 Performance', 'Overfitting?'],\n",
    "               ['Full Linear', 0.924, 'Absolutely'],\n",
    "               ['Backwards Stepwise',0.193 , 'Potentially'],\n",
    "               ['LassoCV', 0.148, 'Unlikely'],\n",
    "               ['RidgeCV', 0.197, 'Unlikely']]\n",
    "\n",
    "table = ff.create_table(data_matrix)\n",
    "py.iplot(table, filename='simple_table')"
   ]
  },
  {
   "cell_type": "markdown",
   "metadata": {
    "collapsed": true
   },
   "source": [
    "Since we didn't see any increased performance here, we decided to shift our focus to classificaiton. Now, instead of trying to predict the exact number of followers, we defined a successful playlist as one above our threshold of 163K followers. Reshaping our question then, we were able to see some performance improvement."
   ]
  },
  {
   "cell_type": "code",
   "execution_count": null,
   "metadata": {
    "collapsed": true
   },
   "outputs": [],
   "source": []
  }
 ],
 "metadata": {
  "anaconda-cloud": {},
  "celltoolbar": "Edit Metadata",
  "kernelspec": {
   "display_name": "Python 3",
   "language": "python",
   "name": "python3"
  },
  "language_info": {
   "codemirror_mode": {
    "name": "ipython",
    "version": 3
   },
   "file_extension": ".py",
   "mimetype": "text/x-python",
   "name": "python",
   "nbconvert_exporter": "python",
   "pygments_lexer": "ipython3",
   "version": "3.6.1"
  },
  "latex_envs": {
   "bibliofile": "biblio.bib",
   "cite_by": "apalike",
   "current_citInitial": 1,
   "eqLabelWithNumbers": true,
   "eqNumInitial": 0
  }
 },
 "nbformat": 4,
 "nbformat_minor": 1
}
